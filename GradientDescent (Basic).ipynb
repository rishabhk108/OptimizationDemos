{
 "cells": [
  {
   "cell_type": "markdown",
   "metadata": {},
   "source": [
    "### Dataset\n",
    "Lets Load the dataset. We shall use the following datasets:\n",
    "\n",
    "Features are in: \"sido0_train.mat\"\n",
    "\n",
    "Labels are in: \"sido0_train.targets\""
   ]
  },
  {
   "cell_type": "code",
   "execution_count": 2,
   "metadata": {},
   "outputs": [
    {
     "name": "stdout",
     "output_type": "stream",
     "text": [
      "(12678, 4932)\n"
     ]
    }
   ],
   "source": [
    "from scipy.io import loadmat\n",
    "import numpy as np\n",
    "\n",
    "X = loadmat(r\"sido0_matlab/sido0_train.mat\")\n",
    "y = np.loadtxt(r\"sido0_matlab/sido0_train.targets\")\n",
    "\n",
    "# Statistics of the Dense Format of X\n",
    "X = X['X'].todense()\n",
    "print(X.shape)"
   ]
  },
  {
   "cell_type": "markdown",
   "metadata": {},
   "source": [
    "### Logistic Regression Definition\n",
    "Lets use the Logistic Regression definition we previously used\n"
   ]
  },
  {
   "cell_type": "code",
   "execution_count": 3,
   "metadata": {},
   "outputs": [],
   "source": [
    "def LogisticLoss(w, X, y, lam):\n",
    "    # Computes the cost function for all the training samples\n",
    "    m = X.shape[0]\n",
    "    n = X.shape[1]\n",
    "    Xw = np.dot(X,w)\n",
    "    yT = y.reshape(-1,1)\n",
    "    yXw = np.multiply(yT,Xw)\n",
    "    f = np.sum(np.logaddexp(0,-yXw)) + 0.5*lam*np.sum(np.multiply(w,w))\n",
    "    gMul = 1/(1 + np.exp(yXw))\n",
    "    ymul = -1*np.multiply(yT, gMul)\n",
    "    g =  np.dot(ymul.reshape(1,-1),X) + lam*w.reshape(1,-1)\n",
    "    g = g.reshape(-1,1)\n",
    "    return [f, g]\n",
    "        "
   ]
  },
  {
   "cell_type": "markdown",
   "metadata": {},
   "source": [
    "### Gradient Descent\n",
    "Lets now define the most basic version of Gradient Descent and tune the learning rate!"
   ]
  },
  {
   "cell_type": "code",
   "execution_count": 4,
   "metadata": {},
   "outputs": [],
   "source": [
    "from numpy import linalg as LA\n",
    "\n",
    "def gd(funObj,w,maxEvals,alpha,X,y,lam, verbosity, freq):\n",
    "    [f,g] = funObj(w,X,y,lam)\n",
    "    funEvals = 1\n",
    "    funVals = []\n",
    "    while(1):\n",
    "        [f,g] = funObj(w,X,y,lam)\n",
    "        optCond = LA.norm(g, np.inf)\n",
    "        if ((verbosity > 0) and (funEvals % freq == 0)):\n",
    "            print(\"FunEvals: \" + str(funEvals) + \", alpha = \" + str(alpha) + \", Function Value = \" + str(f) + \"Opt Cond: \" + str(optCond))\n",
    "        w = w - alpha*g\n",
    "        funEvals = funEvals+1\n",
    "        if (optCond < 1e-2):\n",
    "            break\n",
    "        if (funEvals > maxEvals):\n",
    "            break\n",
    "        funVals.append(f)\n",
    "    return funVals\n",
    "\n",
    "[nSamples,nVars] = X.shape\n",
    "w = np.zeros((nVars,1))"
   ]
  },
  {
   "cell_type": "markdown",
   "metadata": {},
   "source": [
    "### Lets run it!\n",
    "Now let us run it for alpha = 1e-1"
   ]
  },
  {
   "cell_type": "code",
   "execution_count": 5,
   "metadata": {},
   "outputs": [
    {
     "name": "stderr",
     "output_type": "stream",
     "text": [
      "/Library/Python/3.7/site-packages/ipykernel_launcher.py:9: RuntimeWarning: overflow encountered in exp\n",
      "  if __name__ == '__main__':\n"
     ]
    },
    {
     "name": "stdout",
     "output_type": "stream",
     "text": [
      "FunEvals: 10, alpha = 0.1, Function Value = 5132063.161701623Opt Cond: 594.7900993231987\n",
      "FunEvals: 20, alpha = 0.1, Function Value = 5085321.830353418Opt Cond: 546.6790555705702\n",
      "FunEvals: 30, alpha = 0.1, Function Value = 24321340.625333373Opt Cond: 12226.34772708299\n",
      "FunEvals: 40, alpha = 0.1, Function Value = 11052026.426141273Opt Cond: 1005.5533604885051\n",
      "FunEvals: 50, alpha = 0.1, Function Value = 7229048.443102302Opt Cond: 573.5293211025089\n",
      "FunEvals: 60, alpha = 0.1, Function Value = 1606445.8316171337Opt Cond: 1249.289114529055\n",
      "FunEvals: 70, alpha = 0.1, Function Value = 1363489.0510592207Opt Cond: 373.9702224577259\n",
      "FunEvals: 80, alpha = 0.1, Function Value = 11981093.247856414Opt Cond: 529.4110641081884\n",
      "FunEvals: 90, alpha = 0.1, Function Value = 16081776.095875744Opt Cond: 638.2768487047542\n",
      "FunEvals: 100, alpha = 0.1, Function Value = 17059147.778465725Opt Cond: 9329.152883638555\n",
      "FunEvals: 110, alpha = 0.1, Function Value = 9282296.175946847Opt Cond: 1267.2767695203215\n",
      "FunEvals: 120, alpha = 0.1, Function Value = 1211268.026249948Opt Cond: 312.96967847413083\n",
      "FunEvals: 130, alpha = 0.1, Function Value = 18511920.830872316Opt Cond: 618.2264595696728\n",
      "FunEvals: 140, alpha = 0.1, Function Value = 24930351.38450644Opt Cond: 817.3678338507756\n",
      "FunEvals: 150, alpha = 0.1, Function Value = 2107751.4114628984Opt Cond: 230.4932641094141\n",
      "FunEvals: 160, alpha = 0.1, Function Value = 5010334.050764728Opt Cond: 544.6755829599847\n",
      "FunEvals: 170, alpha = 0.1, Function Value = 1384842.9415240479Opt Cond: 653.1835709965886\n",
      "FunEvals: 180, alpha = 0.1, Function Value = 5287939.992446343Opt Cond: 530.2836213255987\n",
      "FunEvals: 190, alpha = 0.1, Function Value = 62639936.50983368Opt Cond: 1074.013606910998\n",
      "FunEvals: 200, alpha = 0.1, Function Value = 16063179.369673662Opt Cond: 673.5629891840268\n"
     ]
    }
   ],
   "source": [
    "funV = gd(LogisticLoss,w,200,1e-1,X,y,1,1,10)"
   ]
  },
  {
   "cell_type": "markdown",
   "metadata": {},
   "source": [
    "### Learning Rate is too large!\n",
    "Lets try alpha = 1e-3"
   ]
  },
  {
   "cell_type": "code",
   "execution_count": 6,
   "metadata": {},
   "outputs": [
    {
     "name": "stderr",
     "output_type": "stream",
     "text": [
      "/Library/Python/3.7/site-packages/ipykernel_launcher.py:9: RuntimeWarning: overflow encountered in exp\n",
      "  if __name__ == '__main__':\n"
     ]
    },
    {
     "name": "stdout",
     "output_type": "stream",
     "text": [
      "FunEvals: 10, alpha = 0.001, Function Value = 78660.15024615564Opt Cond: 455.22013340110016\n",
      "FunEvals: 20, alpha = 0.001, Function Value = 88365.55162812797Opt Cond: 455.3150253545914\n",
      "FunEvals: 30, alpha = 0.001, Function Value = 61641.29178991578Opt Cond: 440.4447073973744\n",
      "FunEvals: 40, alpha = 0.001, Function Value = 82917.20789706903Opt Cond: 454.9025368684714\n",
      "FunEvals: 50, alpha = 0.001, Function Value = 26925.864885981027Opt Cond: 321.87406865073325\n",
      "FunEvals: 60, alpha = 0.001, Function Value = 69087.74150170013Opt Cond: 454.33904004862137\n",
      "FunEvals: 70, alpha = 0.001, Function Value = 20633.56802768407Opt Cond: 297.33797745381435\n",
      "FunEvals: 80, alpha = 0.001, Function Value = 20929.828598337364Opt Cond: 310.5268302945083\n",
      "FunEvals: 90, alpha = 0.001, Function Value = 13195.810120396301Opt Cond: 657.0075370445511\n",
      "FunEvals: 100, alpha = 0.001, Function Value = 59107.24736602319Opt Cond: 452.9364941209609\n",
      "FunEvals: 110, alpha = 0.001, Function Value = 11001.20424797948Opt Cond: 522.5047353830477\n",
      "FunEvals: 120, alpha = 0.001, Function Value = 16430.503871912406Opt Cond: 949.8327780920794\n",
      "FunEvals: 130, alpha = 0.001, Function Value = 14430.723568415307Opt Cond: 840.2493606015254\n",
      "FunEvals: 140, alpha = 0.001, Function Value = 12616.56614195981Opt Cond: 747.288773146674\n",
      "FunEvals: 150, alpha = 0.001, Function Value = 8360.017733194014Opt Cond: 388.0502225223096\n",
      "FunEvals: 160, alpha = 0.001, Function Value = 5045.798722763896Opt Cond: 83.86035605515433\n",
      "FunEvals: 170, alpha = 0.001, Function Value = 63502.66316012861Opt Cond: 453.7789086037093\n",
      "FunEvals: 180, alpha = 0.001, Function Value = 58926.28718594521Opt Cond: 453.3264966625178\n",
      "FunEvals: 190, alpha = 0.001, Function Value = 20096.3661584896Opt Cond: 361.1374405250926\n",
      "FunEvals: 200, alpha = 0.001, Function Value = 14671.508894791734Opt Cond: 306.09844927009107\n"
     ]
    }
   ],
   "source": [
    "funV = gd(LogisticLoss,w,200,1e-3,X,y,1,1,10)"
   ]
  },
  {
   "cell_type": "markdown",
   "metadata": {},
   "source": [
    "#### Still diverging a little. Lets reduce it further!"
   ]
  },
  {
   "cell_type": "code",
   "execution_count": 7,
   "metadata": {},
   "outputs": [
    {
     "name": "stdout",
     "output_type": "stream",
     "text": [
      "FunEvals: 10, alpha = 0.0001, Function Value = 6901.971816348055Opt Cond: 442.2946247522974\n",
      "FunEvals: 20, alpha = 0.0001, Function Value = 7632.051967689183Opt Cond: 450.5144489212817\n",
      "FunEvals: 30, alpha = 0.0001, Function Value = 4115.821135614717Opt Cond: 373.75869102050234\n",
      "FunEvals: 40, alpha = 0.0001, Function Value = 2041.566354257644Opt Cond: 315.13916194672123\n",
      "FunEvals: 50, alpha = 0.0001, Function Value = 2923.105998291606Opt Cond: 335.17401442794716\n",
      "FunEvals: 60, alpha = 0.0001, Function Value = 4564.452957920106Opt Cond: 427.2332253258983\n",
      "FunEvals: 70, alpha = 0.0001, Function Value = 1122.94675206684Opt Cond: 61.1489219527397\n",
      "FunEvals: 80, alpha = 0.0001, Function Value = 1533.553491262663Opt Cond: 483.1572029469825\n",
      "FunEvals: 90, alpha = 0.0001, Function Value = 1050.0624073636566Opt Cond: 224.36647856711548\n",
      "FunEvals: 100, alpha = 0.0001, Function Value = 1166.508010330169Opt Cond: 339.7535493408738\n",
      "FunEvals: 110, alpha = 0.0001, Function Value = 785.1383560402273Opt Cond: 66.50478808431701\n",
      "FunEvals: 120, alpha = 0.0001, Function Value = 1200.6783102538668Opt Cond: 239.73837486599305\n",
      "FunEvals: 130, alpha = 0.0001, Function Value = 3115.055926151521Opt Cond: 406.0988646602574\n",
      "FunEvals: 140, alpha = 0.0001, Function Value = 5142.740424983046Opt Cond: 448.34660110612947\n",
      "FunEvals: 150, alpha = 0.0001, Function Value = 1198.7251131576406Opt Cond: 275.57229043120407\n",
      "FunEvals: 160, alpha = 0.0001, Function Value = 3862.3977965622976Opt Cond: 429.06849225461224\n",
      "FunEvals: 170, alpha = 0.0001, Function Value = 670.8202408803123Opt Cond: 141.8566371831203\n",
      "FunEvals: 180, alpha = 0.0001, Function Value = 5981.814441117279Opt Cond: 451.4964276484291\n",
      "FunEvals: 190, alpha = 0.0001, Function Value = 5672.49360165496Opt Cond: 450.7283229610293\n",
      "FunEvals: 200, alpha = 0.0001, Function Value = 958.3648275344422Opt Cond: 400.3179214739598\n"
     ]
    }
   ],
   "source": [
    "funV = gd(LogisticLoss,w,200,1e-4,X,y,1,1,10)"
   ]
  },
  {
   "cell_type": "markdown",
   "metadata": {},
   "source": [
    "#### Lets reduce it even lower!"
   ]
  },
  {
   "cell_type": "code",
   "execution_count": 8,
   "metadata": {},
   "outputs": [
    {
     "name": "stdout",
     "output_type": "stream",
     "text": [
      "FunEvals: 10, alpha = 1e-05, Function Value = 1213.4743201114695Opt Cond: 114.68153126393145\n",
      "FunEvals: 20, alpha = 1e-05, Function Value = 1131.4844387092353Opt Cond: 90.04707758512986\n",
      "FunEvals: 30, alpha = 1e-05, Function Value = 1083.7563505555165Opt Cond: 72.60196962998849\n",
      "FunEvals: 40, alpha = 1e-05, Function Value = 1050.7099921961803Opt Cond: 60.832705300734666\n",
      "FunEvals: 50, alpha = 1e-05, Function Value = 1025.6543231061964Opt Cond: 52.22614904403128\n",
      "FunEvals: 60, alpha = 1e-05, Function Value = 1005.5325735481615Opt Cond: 45.61185402029006\n",
      "FunEvals: 70, alpha = 1e-05, Function Value = 988.6782517600735Opt Cond: 40.356986934455556\n",
      "FunEvals: 80, alpha = 1e-05, Function Value = 974.0992190976251Opt Cond: 36.0796539374524\n",
      "FunEvals: 90, alpha = 1e-05, Function Value = 961.1721323263499Opt Cond: 34.215600758836075\n",
      "FunEvals: 100, alpha = 1e-05, Function Value = 949.4884325878157Opt Cond: 32.747689575741774\n",
      "FunEvals: 110, alpha = 1e-05, Function Value = 938.7702766898448Opt Cond: 31.482235635078908\n",
      "FunEvals: 120, alpha = 1e-05, Function Value = 928.8224372031733Opt Cond: 30.380915337463815\n",
      "FunEvals: 130, alpha = 1e-05, Function Value = 919.503730188812Opt Cond: 29.413559858376534\n",
      "FunEvals: 140, alpha = 1e-05, Function Value = 910.7094439225424Opt Cond: 28.556326276414953\n",
      "FunEvals: 150, alpha = 1e-05, Function Value = 902.3601721364754Opt Cond: 27.790261483631195\n",
      "FunEvals: 160, alpha = 1e-05, Function Value = 894.3944975567704Opt Cond: 27.100198939986452\n",
      "FunEvals: 170, alpha = 1e-05, Function Value = 886.7640642443886Opt Cond: 26.473918434418522\n",
      "FunEvals: 180, alpha = 1e-05, Function Value = 879.4301771756716Opt Cond: 25.901506968740513\n",
      "FunEvals: 190, alpha = 1e-05, Function Value = 872.3614056439174Opt Cond: 25.374871148725568\n",
      "FunEvals: 200, alpha = 1e-05, Function Value = 865.53186299453Opt Cond: 24.887363103890266\n"
     ]
    }
   ],
   "source": [
    "funV = gd(LogisticLoss,w,200,1e-5,X,y,1,1,10)"
   ]
  },
  {
   "cell_type": "markdown",
   "metadata": {},
   "source": [
    "#### Lets plot the results for different alpha"
   ]
  },
  {
   "cell_type": "code",
   "execution_count": null,
   "metadata": {},
   "outputs": [
    {
     "name": "stderr",
     "output_type": "stream",
     "text": [
      "/Library/Python/3.7/site-packages/ipykernel_launcher.py:9: RuntimeWarning: overflow encountered in exp\n",
      "  if __name__ == '__main__':\n"
     ]
    }
   ],
   "source": [
    "funV1 = gd(LogisticLoss,w,200,1e-3,X,y,1,0,0)\n",
    "funV2 = gd(LogisticLoss,w,200,1e-4,X,y,1,0,0)\n",
    "funV3 = gd(LogisticLoss,w,200,1e-5,X,y,1,0,0)\n",
    "funV4 = gd(LogisticLoss,w,200,1e-6,X,y,1,0,0)"
   ]
  },
  {
   "cell_type": "code",
   "execution_count": null,
   "metadata": {},
   "outputs": [],
   "source": [
    "from matplotlib import pyplot as plt\n",
    "plt.plot(range(1,len(funV1)+1), funV1, label='alpha = 1e-3')\n",
    "plt.plot(range(1,len(funV2)+1), funV2, label='alpha = 1e-4')\n",
    "plt.plot(range(1,len(funV3)+1), funV3, label='alpha = 1e-5')\n",
    "plt.plot(range(1,len(funV4)+1), funV4, label='alpha = 1e-6')\n",
    "plt.legend()\n",
    "plt.xlabel(\"# Iterations\")\n",
    "plt.ylabel(\"Function Value\")"
   ]
  },
  {
   "cell_type": "code",
   "execution_count": null,
   "metadata": {},
   "outputs": [],
   "source": [
    "from matplotlib import pyplot as plt\n",
    "plt.plot(range(1,len(funV2)+1), funV2, label='alpha = 1e-4')\n",
    "plt.plot(range(1,len(funV3)+1), funV3, label='alpha = 1e-5')\n",
    "plt.plot(range(1,len(funV4)+1), funV4, label='alpha = 1e-6')\n",
    "plt.legend()\n",
    "plt.xlabel(\"# Iterations\")\n",
    "plt.ylabel(\"Function Value\")"
   ]
  },
  {
   "cell_type": "code",
   "execution_count": null,
   "metadata": {},
   "outputs": [],
   "source": [
    "from matplotlib import pyplot as plt\n",
    "plt.plot(range(1,len(funV3)+1), funV3, label='alpha = 1e-5')\n",
    "plt.plot(range(1,len(funV4)+1), funV4, label='alpha = 1e-6')\n",
    "plt.legend()\n",
    "plt.xlabel(\"# Iterations\")\n",
    "plt.ylabel(\"Function Value\")"
   ]
  },
  {
   "cell_type": "code",
   "execution_count": null,
   "metadata": {},
   "outputs": [],
   "source": []
  }
 ],
 "metadata": {
  "kernelspec": {
   "display_name": "Python 2",
   "language": "python",
   "name": "python2"
  },
  "language_info": {
   "codemirror_mode": {
    "name": "ipython",
    "version": 3
   },
   "file_extension": ".py",
   "mimetype": "text/x-python",
   "name": "python",
   "nbconvert_exporter": "python",
   "pygments_lexer": "ipython3",
   "version": "3.7.3"
  }
 },
 "nbformat": 4,
 "nbformat_minor": 2
}
