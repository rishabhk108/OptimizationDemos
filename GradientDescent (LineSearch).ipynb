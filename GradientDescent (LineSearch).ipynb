{
 "cells": [
  {
   "cell_type": "markdown",
   "metadata": {},
   "source": [
    "### Dataset\n",
    "Lets Load the dataset. We shall use the following datasets:\n",
    "Features are in: \"sido0_train.mat\"\n",
    "Labels are in: \"sido0_train.targets\""
   ]
  },
  {
   "cell_type": "code",
   "execution_count": 37,
   "metadata": {},
   "outputs": [
    {
     "name": "stdout",
     "output_type": "stream",
     "text": [
      "(12678, 4932)\n"
     ]
    }
   ],
   "source": [
    "from scipy.io import loadmat\n",
    "import numpy as np\n",
    "\n",
    "X = loadmat(r\"/Users/rkiyer/teaching/CS7301/jupyter/data/sido0_matlab/sido0_train.mat\")\n",
    "y = np.loadtxt(r\"/Users/rkiyer/teaching/CS7301/jupyter/data/sido0_matlab/sido0_train.targets\")\n",
    "\n",
    "# Statistics of the Dense Format of X\n",
    "X = X['X'].todense()\n",
    "print(X.shape)"
   ]
  },
  {
   "cell_type": "markdown",
   "metadata": {},
   "source": [
    "### Logistic Regression Definition\n",
    "Lets use the Logistic Regression definition we previously used\n"
   ]
  },
  {
   "cell_type": "code",
   "execution_count": 38,
   "metadata": {},
   "outputs": [],
   "source": [
    "def LogisticLoss(w, X, y, lam):\n",
    "    # Computes the cost function for all the training samples\n",
    "    m = X.shape[0]\n",
    "    n = X.shape[1]\n",
    "    Xw = np.dot(X,w)\n",
    "    yT = y.reshape(-1,1)\n",
    "    yXw = np.multiply(yT,Xw)\n",
    "    f = np.sum(np.logaddexp(0,-yXw)) + 0.5*lam*np.sum(np.multiply(w,w))\n",
    "    gMul = 1/(1 + np.exp(yXw))\n",
    "    ymul = -1*np.multiply(yT, gMul)\n",
    "    g =  np.dot(ymul.reshape(1,-1),X) + lam*w.reshape(1,-1)\n",
    "    g = g.reshape(-1,1)\n",
    "    return [f, g]"
   ]
  },
  {
   "cell_type": "markdown",
   "metadata": {},
   "source": [
    "### Basic Gradient Descent Again\n",
    "Lets invoke the basic GD again and use the optimal (tuned) Learning rate: alpha = 1e-5"
   ]
  },
  {
   "cell_type": "code",
   "execution_count": 39,
   "metadata": {},
   "outputs": [
    {
     "name": "stdout",
     "output_type": "stream",
     "text": [
      "FunEvals: 10, alpha = 1e-05, Function Value = 1213.4743201114695Opt Cond: 114.68153126393145\n",
      "FunEvals: 20, alpha = 1e-05, Function Value = 1131.4844387092353Opt Cond: 90.04707758512986\n",
      "FunEvals: 30, alpha = 1e-05, Function Value = 1083.7563505555165Opt Cond: 72.60196962998849\n",
      "FunEvals: 40, alpha = 1e-05, Function Value = 1050.7099921961803Opt Cond: 60.832705300734666\n",
      "FunEvals: 50, alpha = 1e-05, Function Value = 1025.6543231061964Opt Cond: 52.22614904403128\n",
      "FunEvals: 60, alpha = 1e-05, Function Value = 1005.5325735481615Opt Cond: 45.61185402029006\n",
      "FunEvals: 70, alpha = 1e-05, Function Value = 988.6782517600735Opt Cond: 40.356986934455556\n",
      "FunEvals: 80, alpha = 1e-05, Function Value = 974.0992190976251Opt Cond: 36.0796539374524\n",
      "FunEvals: 90, alpha = 1e-05, Function Value = 961.1721323263499Opt Cond: 34.215600758836075\n",
      "FunEvals: 100, alpha = 1e-05, Function Value = 949.4884325878157Opt Cond: 32.747689575741774\n",
      "FunEvals: 110, alpha = 1e-05, Function Value = 938.7702766898448Opt Cond: 31.482235635078908\n",
      "FunEvals: 120, alpha = 1e-05, Function Value = 928.8224372031733Opt Cond: 30.380915337463815\n",
      "FunEvals: 130, alpha = 1e-05, Function Value = 919.503730188812Opt Cond: 29.413559858376534\n",
      "FunEvals: 140, alpha = 1e-05, Function Value = 910.7094439225424Opt Cond: 28.556326276414953\n",
      "FunEvals: 150, alpha = 1e-05, Function Value = 902.3601721364754Opt Cond: 27.790261483631195\n",
      "FunEvals: 160, alpha = 1e-05, Function Value = 894.3944975567704Opt Cond: 27.100198939986452\n",
      "FunEvals: 170, alpha = 1e-05, Function Value = 886.7640642443886Opt Cond: 26.473918434418522\n",
      "FunEvals: 180, alpha = 1e-05, Function Value = 879.4301771756716Opt Cond: 25.901506968740513\n",
      "FunEvals: 190, alpha = 1e-05, Function Value = 872.3614056439174Opt Cond: 25.374871148725568\n",
      "FunEvals: 200, alpha = 1e-05, Function Value = 865.53186299453Opt Cond: 24.887363103890266\n",
      "FunEvals: 210, alpha = 1e-05, Function Value = 858.9199520263851Opt Cond: 24.433491515470763\n",
      "FunEvals: 220, alpha = 1e-05, Function Value = 852.5074370656538Opt Cond: 24.00869669857624\n",
      "FunEvals: 230, alpha = 1e-05, Function Value = 846.2787489247123Opt Cond: 23.609174185242427\n",
      "FunEvals: 240, alpha = 1e-05, Function Value = 840.2204582151019Opt Cond: 23.231735298971177\n",
      "FunEvals: 250, alpha = 1e-05, Function Value = 834.3208718627434Opt Cond: 22.873696164774383\n"
     ]
    }
   ],
   "source": [
    "from numpy import linalg as LA\n",
    "\n",
    "def gd(funObj,w,maxEvals,alpha,X,y,lam, verbosity, freq):\n",
    "    [f,g] = funObj(w,X,y,lam)\n",
    "    funEvals = 1\n",
    "    funVals = []\n",
    "    while(1):\n",
    "        [f,g] = funObj(w,X,y,lam)\n",
    "        optCond = LA.norm(g, np.inf)\n",
    "        if ((verbosity > 0) and (funEvals % freq == 0)):\n",
    "            print(\"FunEvals: \" + str(funEvals) + \", alpha = \" + str(alpha) + \", Function Value = \" + str(f) + \"Opt Cond: \" + str(optCond))\n",
    "        w = w - alpha*g\n",
    "        funEvals = funEvals+1\n",
    "        if (optCond < 1e-2):\n",
    "            break\n",
    "        if (funEvals > maxEvals):\n",
    "            break\n",
    "        funVals.append(f)\n",
    "    return funVals\n",
    "\n",
    "[nSamples,nVars] = X.shape\n",
    "w = np.zeros((nVars,1))\n",
    "funV1 = gd(LogisticLoss,w,250,1e-5,X,y,1,1,10)"
   ]
  },
  {
   "cell_type": "markdown",
   "metadata": {},
   "source": [
    "### Gradient Descent with Line Search\n",
    "#### Version 1: Armijo Backtracking Line Search\n",
    "Lets now define the most basic version of Gradient Descent and tune the learning rate!"
   ]
  },
  {
   "cell_type": "code",
   "execution_count": 40,
   "metadata": {},
   "outputs": [],
   "source": [
    "from numpy import linalg as LA\n",
    "\n",
    "def gdArmijoV1(funObj,w,maxEvals,alpha,gamma,X,y,lam, verbosity, freq):\n",
    "    [f,g] = funObj(w,X,y,lam)\n",
    "    funEvals = 1\n",
    "    funVals = []\n",
    "    funVals.append(f)\n",
    "    numBackTrack = 0\n",
    "    while(1):\n",
    "        wp = w - alpha*g\n",
    "        [fp,gp] = funObj(wp,X,y,lam)\n",
    "        funEvals = funEvals+1\n",
    "        backtrack = 0\n",
    "        while fp > f - gamma*alpha*np.dot(g.T, g):\n",
    "            alpha = alpha/2\n",
    "            wp = w - alpha*g\n",
    "            [fp,gp] = funObj(wp,X,y,lam)\n",
    "            funVals.append(f)\n",
    "            funEvals = funEvals+1\n",
    "            numBackTrack = numBackTrack + 1\n",
    "            backtrack = 1\n",
    "            #print(f,fp)\n",
    "        w = wp\n",
    "        f = fp\n",
    "        g = gp\n",
    "        if (backtrack == 0):\n",
    "            funVals.append(f)\n",
    "        optCond = LA.norm(g, np.inf)\n",
    "        if ((verbosity > 0) and (funEvals % freq == 0)):\n",
    "            print(\"FunEvals: \" + str(funEvals) + \", alpha = \" + str(alpha) + \", Function Value = \" + str(f) + \"Opt Cond: \" + str(optCond))\n",
    "        if (optCond < 1e-2):\n",
    "            break\n",
    "        if (funEvals >= maxEvals):\n",
    "            break\n",
    "    return (funVals,numBackTrack)"
   ]
  },
  {
   "cell_type": "code",
   "execution_count": 41,
   "metadata": {},
   "outputs": [
    {
     "name": "stderr",
     "output_type": "stream",
     "text": [
      "/Library/Python/3.7/site-packages/ipykernel_launcher.py:9: RuntimeWarning: overflow encountered in exp\n",
      "  if __name__ == '__main__':\n"
     ]
    },
    {
     "name": "stdout",
     "output_type": "stream",
     "text": [
      "FunEvals: 20, alpha = 1.52587890625e-05, Function Value = 4498.650573294827Opt Cond: 451.459364054303\n",
      "FunEvals: 30, alpha = 1.52587890625e-05, Function Value = 1148.0405691540864Opt Cond: 75.82390057650869\n",
      "FunEvals: 40, alpha = 1.52587890625e-05, Function Value = 1065.4436384096484Opt Cond: 59.740701681862525\n",
      "FunEvals: 50, alpha = 1.52587890625e-05, Function Value = 1021.1487768099613Opt Cond: 48.65527879568036\n",
      "FunEvals: 60, alpha = 1.52587890625e-05, Function Value = 992.227687124363Opt Cond: 41.45165833308758\n",
      "FunEvals: 70, alpha = 1.52587890625e-05, Function Value = 970.1642298357134Opt Cond: 36.784922860594925\n",
      "FunEvals: 80, alpha = 1.52587890625e-05, Function Value = 951.7606903479165Opt Cond: 33.6323302672203\n",
      "FunEvals: 90, alpha = 1.52587890625e-05, Function Value = 935.6586493742099Opt Cond: 31.37592503799789\n",
      "FunEvals: 100, alpha = 1.52587890625e-05, Function Value = 921.1700398667938Opt Cond: 29.66811419106363\n",
      "FunEvals: 110, alpha = 1.52587890625e-05, Function Value = 907.892276992773Opt Cond: 28.313102080223363\n",
      "FunEvals: 120, alpha = 1.52587890625e-05, Function Value = 895.5663613034641Opt Cond: 27.196768835634145\n",
      "FunEvals: 130, alpha = 1.52587890625e-05, Function Value = 884.0150796042523Opt Cond: 26.24941099087515\n",
      "FunEvals: 140, alpha = 1.52587890625e-05, Function Value = 873.1117052013666Opt Cond: 25.426326761196176\n",
      "FunEvals: 150, alpha = 1.52587890625e-05, Function Value = 862.7623569511347Opt Cond: 24.69752979589455\n",
      "FunEvals: 160, alpha = 1.52587890625e-05, Function Value = 852.8953519908591Opt Cond: 24.04211317867736\n",
      "FunEvals: 170, alpha = 1.52587890625e-05, Function Value = 843.4544844881615Opt Cond: 23.445030106498322\n",
      "FunEvals: 180, alpha = 1.52587890625e-05, Function Value = 834.3946419580027Opt Cond: 22.895171151002554\n",
      "FunEvals: 190, alpha = 1.52587890625e-05, Function Value = 825.6788684790895Opt Cond: 22.38416420429601\n",
      "FunEvals: 200, alpha = 1.52587890625e-05, Function Value = 817.2763491772727Opt Cond: 21.90559417560575\n",
      "FunEvals: 210, alpha = 1.52587890625e-05, Function Value = 809.1609950354049Opt Cond: 21.4544769086789\n",
      "FunEvals: 220, alpha = 1.52587890625e-05, Function Value = 801.3104271513132Opt Cond: 21.02689341891878\n",
      "FunEvals: 230, alpha = 1.52587890625e-05, Function Value = 793.7052321480238Opt Cond: 20.619729073810223\n",
      "FunEvals: 240, alpha = 1.52587890625e-05, Function Value = 786.3284052978487Opt Cond: 20.230483770004753\n",
      "FunEvals: 250, alpha = 1.52587890625e-05, Function Value = 779.164926144Opt Cond: 19.85713151028613\n",
      "249\n",
      "Number of Backtrackings = 16\n"
     ]
    }
   ],
   "source": [
    "[nSamples,nVars] = X.shape\n",
    "w = np.zeros((nVars,1))\n",
    "(funV2,numBackTrack) = gdArmijoV1(LogisticLoss,w,250,1,1e-4,X,y,1,1,10)\n",
    "print(len(funV2))\n",
    "print(\"Number of Backtrackings = \" + str(numBackTrack))"
   ]
  },
  {
   "cell_type": "markdown",
   "metadata": {},
   "source": [
    "#### So we already see an improvement vs the fixed learning rate!\n",
    "\n",
    "Next, we add a simple fix to reset the alpha in every iteration!"
   ]
  },
  {
   "cell_type": "code",
   "execution_count": 42,
   "metadata": {},
   "outputs": [],
   "source": [
    "from numpy import linalg as LA\n",
    "\n",
    "def gdArmijoV2(funObj,w,maxEvals,alpha,gamma,X,y,lam, verbosity, freq):\n",
    "    [f,g] = funObj(w,X,y,lam)\n",
    "    funEvals = 1\n",
    "    funVals = []\n",
    "    funVals.append(f)\n",
    "    numBackTrack = 0\n",
    "    while(1):\n",
    "        wp = w - alpha*g\n",
    "        [fp,gp] = funObj(wp,X,y,lam)\n",
    "        funVals.append(f)\n",
    "        funEvals = funEvals+1\n",
    "        while fp > f - gamma*alpha*np.dot(g.T, g):\n",
    "            alpha = alpha/2\n",
    "            wp = w - alpha*g\n",
    "            [fp,gp] = funObj(wp,X,y,lam)\n",
    "            funEvals = funEvals+1\n",
    "            numBackTrack = numBackTrack + 1\n",
    "            funVals.append(f)\n",
    "            #print(\"backtracking...\")\n",
    "        if funEvals > 1:\n",
    "            alpha = 1\n",
    "        w = wp\n",
    "        f = fp\n",
    "        g = gp\n",
    "        #if (backtrack == 0):\n",
    "        #    funVals.append(f)\n",
    "        optCond = LA.norm(g, np.inf)\n",
    "        if ((verbosity > 0) and (funEvals % freq == 0)):\n",
    "            print(\"FunEvals: \" + str(funEvals) + \", alpha = \" + str(alpha) + \", Function Value = \" + str(f) + \"Opt Cond: \" + str(optCond))\n",
    "        if (optCond < 1e-2):\n",
    "            break\n",
    "        if (funEvals >= maxEvals):\n",
    "            break\n",
    "    return (funVals,numBackTrack)"
   ]
  },
  {
   "cell_type": "code",
   "execution_count": 43,
   "metadata": {},
   "outputs": [
    {
     "name": "stderr",
     "output_type": "stream",
     "text": [
      "/Library/Python/3.7/site-packages/ipykernel_launcher.py:9: RuntimeWarning: overflow encountered in exp\n",
      "  if __name__ == '__main__':\n"
     ]
    },
    {
     "name": "stdout",
     "output_type": "stream",
     "text": [
      "FunEvals: 18, alpha = 1, Function Value = 6287.967565628375Opt Cond: 452.00969291126097\n",
      "FunEvals: 32, alpha = 1, Function Value = 3151.0641101762303Opt Cond: 1089.2999211897193\n",
      "FunEvals: 49, alpha = 1, Function Value = 1388.5705323782008Opt Cond: 274.4850653428761\n",
      "FunEvals: 65, alpha = 1, Function Value = 1367.6205810945441Opt Cond: 392.85469745505264\n",
      "FunEvals: 82, alpha = 1, Function Value = 1190.9825895365623Opt Cond: 163.61485732031667\n",
      "FunEvals: 99, alpha = 1, Function Value = 1142.2255098638402Opt Cond: 71.10602946643556\n",
      "FunEvals: 113, alpha = 1, Function Value = 1105.3256169661377Opt Cond: 146.86817766975645\n",
      "FunEvals: 130, alpha = 1, Function Value = 1063.8543989762459Opt Cond: 58.1590401075362\n",
      "FunEvals: 144, alpha = 1, Function Value = 1048.1578857602194Opt Cond: 120.60703888710778\n",
      "FunEvals: 161, alpha = 1, Function Value = 1021.7524003264253Opt Cond: 51.568587082251206\n",
      "FunEvals: 175, alpha = 1, Function Value = 1016.5578547803899Opt Cond: 108.16851408981083\n",
      "FunEvals: 192, alpha = 1, Function Value = 994.758452278347Opt Cond: 45.71471921254381\n",
      "FunEvals: 206, alpha = 1, Function Value = 990.9461890150428Opt Cond: 95.61376994704234\n",
      "FunEvals: 223, alpha = 1, Function Value = 974.2293036299546Opt Cond: 40.177719381241715\n",
      "FunEvals: 237, alpha = 1, Function Value = 969.4764265830926Opt Cond: 84.29669725171549\n",
      "FunEvals: 254, alpha = 1, Function Value = 957.0280132115319Opt Cond: 35.21616542943082\n",
      "254\n",
      "Number of Backtrackings = 237\n"
     ]
    }
   ],
   "source": [
    "[nSamples,nVars] = X.shape\n",
    "w = np.zeros((nVars,1))\n",
    "(funV3,numBackTrack) = gdArmijoV2(LogisticLoss,w,250,1,1e-4,X,y,1,1,1)\n",
    "print(len(funV3))\n",
    "print(\"Number of Backtrackings = \" + str(numBackTrack))"
   ]
  },
  {
   "cell_type": "markdown",
   "metadata": {},
   "source": [
    "#### Each iteration makes more progress but slower convergence!\n",
    "\n",
    "Next, we try the Hermite Polynomial Interpolation\n",
    "- Step sizes ignore information collected during Line Search\n",
    "- Reduce the number of evals per iteration using Hermite polynomial interpolation\n",
    "- I.e. minimize the quadratic passing through f(w), f'(w) and f(w - alpha*g)"
   ]
  },
  {
   "cell_type": "code",
   "execution_count": 44,
   "metadata": {},
   "outputs": [],
   "source": [
    "from numpy import linalg as LA\n",
    "\n",
    "def gdArmijoV3(funObj,w,maxEvals,alpha,gamma,X,y,lam, verbosity, freq):\n",
    "    [f,g] = funObj(w,X,y,lam)\n",
    "    funEvals = 1\n",
    "    funVals = []\n",
    "    numBackTrack = 0\n",
    "    while(1):\n",
    "        wp = w - alpha*g\n",
    "        [fp,gp] = funObj(wp,X,y,lam)\n",
    "        funEvals = funEvals+1\n",
    "        funVals.append(f)\n",
    "        while fp > f - gamma*alpha*np.dot(g.T, g):\n",
    "            alpha = alpha*alpha*np.dot(g.T, g)[0,0]/(2*(fp + np.dot(g.T, g)[0,0]*alpha - f))\n",
    "            wp = w - alpha*g\n",
    "            [fp,gp] = funObj(wp,X,y,lam)\n",
    "            funEvals = funEvals+1\n",
    "            funVals.append(f)\n",
    "            numBackTrack = numBackTrack + 1\n",
    "        w = wp\n",
    "        f = fp\n",
    "        g = gp\n",
    "        optCond = LA.norm(g, np.inf)\n",
    "        if ((verbosity > 0) and (funEvals % freq == 0)):\n",
    "            print(\"FunEvals: \" + str(funEvals) + \", alpha = \" + str(alpha) + \", Function Value = \" + str(f) + \"Opt Cond: \" + str(optCond))\n",
    "        if (optCond < 1e-2):\n",
    "            break\n",
    "        if (funEvals >= maxEvals):\n",
    "            break\n",
    "        if funEvals > 1:\n",
    "            alpha = 1\n",
    "    return (funVals,numBackTrack)"
   ]
  },
  {
   "cell_type": "code",
   "execution_count": 45,
   "metadata": {},
   "outputs": [
    {
     "name": "stderr",
     "output_type": "stream",
     "text": [
      "/Library/Python/3.7/site-packages/ipykernel_launcher.py:9: RuntimeWarning: overflow encountered in exp\n",
      "  if __name__ == '__main__':\n"
     ]
    },
    {
     "name": "stdout",
     "output_type": "stream",
     "text": [
      "FunEvals: 16, alpha = 1, Function Value = 5057.114213961772Opt Cond: 451.35289867033515\n",
      "FunEvals: 20, alpha = 1, Function Value = 3039.131010554021Opt Cond: 443.46281971391636\n",
      "FunEvals: 24, alpha = 1, Function Value = 1377.6873116232064Opt Cond: 243.32542483926662\n",
      "FunEvals: 28, alpha = 1, Function Value = 1222.5966295180156Opt Cond: 133.99507294768762\n",
      "FunEvals: 32, alpha = 1, Function Value = 1193.6516258748236Opt Cond: 108.30939762697118\n",
      "FunEvals: 38, alpha = 1, Function Value = 1149.9576036940578Opt Cond: 152.49168597437603\n",
      "FunEvals: 42, alpha = 1, Function Value = 1107.5362734651917Opt Cond: 75.32862810646213\n",
      "FunEvals: 45, alpha = 1, Function Value = 1095.6503202240062Opt Cond: 136.12451886892705\n",
      "FunEvals: 51, alpha = 1, Function Value = 1080.898581592045Opt Cond: 78.44790972536546\n",
      "FunEvals: 54, alpha = 1, Function Value = 1074.0076588549186Opt Cond: 114.55974204164804\n",
      "FunEvals: 60, alpha = 1, Function Value = 1063.391848352062Opt Cond: 66.36184028823594\n",
      "FunEvals: 63, alpha = 1, Function Value = 1055.2837152318734Opt Cond: 101.14211342172683\n",
      "FunEvals: 69, alpha = 1, Function Value = 1046.9258008898466Opt Cond: 61.39836794058985\n",
      "FunEvals: 72, alpha = 1, Function Value = 1039.4367876796027Opt Cond: 92.70785374061388\n",
      "FunEvals: 77, alpha = 1, Function Value = 1036.0317061520661Opt Cond: 87.02012800892122\n",
      "FunEvals: 81, alpha = 1, Function Value = 1025.8430457557668Opt Cond: 58.1613336978569\n",
      "FunEvals: 86, alpha = 1, Function Value = 1016.7368214708621Opt Cond: 105.88627226028562\n",
      "FunEvals: 90, alpha = 1, Function Value = 996.0693417531955Opt Cond: 44.62453934565267\n",
      "FunEvals: 93, alpha = 1, Function Value = 986.4329668426157Opt Cond: 97.67802579812918\n",
      "FunEvals: 99, alpha = 1, Function Value = 975.1626061890478Opt Cond: 43.607045016746426\n",
      "FunEvals: 102, alpha = 1, Function Value = 970.3403442419242Opt Cond: 64.92008254540991\n",
      "FunEvals: 107, alpha = 1, Function Value = 966.0716252289276Opt Cond: 49.32275390493481\n",
      "FunEvals: 110, alpha = 1, Function Value = 962.9545796123704Opt Cond: 42.215201566366936\n",
      "FunEvals: 115, alpha = 1, Function Value = 959.1992063472121Opt Cond: 56.83123616011093\n",
      "FunEvals: 118, alpha = 1, Function Value = 955.1984646542282Opt Cond: 37.5849433058412\n",
      "FunEvals: 123, alpha = 1, Function Value = 950.4657068941345Opt Cond: 61.752291488599596\n",
      "FunEvals: 126, alpha = 1, Function Value = 945.4209859860487Opt Cond: 41.27679674327614\n",
      "FunEvals: 131, alpha = 1, Function Value = 942.6569749180442Opt Cond: 47.20432573884989\n",
      "FunEvals: 134, alpha = 1, Function Value = 939.9411085733954Opt Cond: 32.67111228968213\n",
      "FunEvals: 139, alpha = 1, Function Value = 934.7474370925455Opt Cond: 62.349076571350864\n",
      "FunEvals: 142, alpha = 1, Function Value = 929.3685597410605Opt Cond: 39.84437132407919\n",
      "FunEvals: 147, alpha = 1, Function Value = 926.8903248376198Opt Cond: 42.17587404058383\n",
      "FunEvals: 150, alpha = 1, Function Value = 924.4758456837457Opt Cond: 32.73685958740132\n",
      "FunEvals: 155, alpha = 1, Function Value = 921.6323770493117Opt Cond: 48.16189484526269\n",
      "FunEvals: 158, alpha = 1, Function Value = 918.8444662797209Opt Cond: 27.138441140797546\n",
      "FunEvals: 163, alpha = 1, Function Value = 897.5601255167802Opt Cond: 131.80796561304183\n",
      "FunEvals: 167, alpha = 1, Function Value = 858.3675382478106Opt Cond: 46.17542703015975\n",
      "FunEvals: 170, alpha = 1, Function Value = 855.1693798015451Opt Cond: 24.337771060630946\n",
      "FunEvals: 173, alpha = 1, Function Value = 840.9027890945221Opt Cond: 86.29388050156011\n",
      "FunEvals: 179, alpha = 1, Function Value = 828.3855957545218Opt Cond: 27.06920194037014\n",
      "FunEvals: 182, alpha = 1, Function Value = 826.0106368576377Opt Cond: 28.55633137268132\n",
      "FunEvals: 187, alpha = 1, Function Value = 824.1840831931619Opt Cond: 28.543840291932\n",
      "FunEvals: 190, alpha = 1, Function Value = 822.4502575726785Opt Cond: 23.821717113580597\n",
      "FunEvals: 194, alpha = 1, Function Value = 821.486333522105Opt Cond: 42.356852375501965\n",
      "FunEvals: 197, alpha = 1, Function Value = 819.0248750564095Opt Cond: 24.989234643742414\n",
      "FunEvals: 200, alpha = 1, Function Value = 815.300997452507Opt Cond: 38.12709656030099\n",
      "FunEvals: 205, alpha = 1, Function Value = 812.6138708793874Opt Cond: 26.577244111247484\n",
      "FunEvals: 208, alpha = 1, Function Value = 810.6400528504971Opt Cond: 25.431518961060622\n",
      "FunEvals: 212, alpha = 1, Function Value = 810.0413467496948Opt Cond: 43.207201225682624\n",
      "FunEvals: 215, alpha = 1, Function Value = 807.3307608557881Opt Cond: 24.67123208377627\n",
      "FunEvals: 218, alpha = 1, Function Value = 804.2937799274799Opt Cond: 34.003454576818335\n",
      "FunEvals: 223, alpha = 1, Function Value = 802.065667371821Opt Cond: 25.928913395091175\n",
      "FunEvals: 226, alpha = 1, Function Value = 800.159415495457Opt Cond: 24.949388452506984\n",
      "FunEvals: 230, alpha = 1, Function Value = 799.4367548436529Opt Cond: 41.11709799198176\n",
      "FunEvals: 233, alpha = 1, Function Value = 797.0499918227576Opt Cond: 24.17056204758552\n",
      "FunEvals: 236, alpha = 1, Function Value = 794.2048091506273Opt Cond: 32.73520288167789\n",
      "FunEvals: 241, alpha = 1, Function Value = 792.1149608126741Opt Cond: 25.350254784059103\n",
      "FunEvals: 244, alpha = 1, Function Value = 790.2743135396043Opt Cond: 24.42724789478279\n",
      "FunEvals: 248, alpha = 1, Function Value = 789.4564639576971Opt Cond: 39.226866562909365\n",
      "FunEvals: 251, alpha = 1, Function Value = 787.3180448466803Opt Cond: 23.330384237382894\n",
      "250\n",
      "Number of Backtrackings = 190\n"
     ]
    }
   ],
   "source": [
    "[nSamples,nVars] = X.shape\n",
    "w = np.zeros((nVars,1))\n",
    "(funV4,numBackTrack) = gdArmijoV3(LogisticLoss,w,250,1,1e-4,X,y,1,1,1)\n",
    "print(len(funV4))\n",
    "print(\"Number of Backtrackings = \" + str(numBackTrack))"
   ]
  },
  {
   "cell_type": "markdown",
   "metadata": {},
   "source": [
    "#### gdArmijoV3 is Much better!\n",
    "\n",
    "One last fix: Better Initialization of alpha!\n"
   ]
  },
  {
   "cell_type": "code",
   "execution_count": 46,
   "metadata": {},
   "outputs": [],
   "source": [
    "from numpy import linalg as LA\n",
    "\n",
    "def gdArmijoV4(funObj,w,maxEvals,alpha,gamma,X,y,lam, verbosity, freq):\n",
    "    [f,g] = funObj(w,X,y,lam)\n",
    "    funEvals = 1\n",
    "    funVals = []\n",
    "    f_old = f\n",
    "    g_old = g\n",
    "    funVals.append(f)\n",
    "    alpha = 1/LA.norm(g)\n",
    "    numBackTrack = 0\n",
    "    while(1):\n",
    "        wp = w - alpha*g\n",
    "        [fp,gp] = funObj(wp,X,y,lam)\n",
    "        funVals.append(f)\n",
    "        funEvals = funEvals+1\n",
    "        backtrack = 0\n",
    "        while fp > f - gamma*alpha*np.dot(g.T, g):\n",
    "            alpha = alpha*alpha*np.dot(g.T, g)[0,0]/(2*(fp + np.dot(g.T, g)[0,0]*alpha - f))\n",
    "            wp = w - alpha*g\n",
    "            [fp,gp] = funObj(wp,X,y,lam)\n",
    "            funVals.append(f)\n",
    "            funEvals = funEvals+1\n",
    "            numBackTrack = numBackTrack + 1\n",
    "        if funEvals > 2:\n",
    "            alpha = min(1,2*(f_old - f)/np.dot(g.T, g)[0,0])\n",
    "        f_old = f\n",
    "        g_old = g\n",
    "        w = wp\n",
    "        f = fp\n",
    "        g = gp\n",
    "        optCond = LA.norm(g, np.inf)\n",
    "        if ((verbosity > 0) and (funEvals % freq == 0)):\n",
    "            print(\"FunEvals: \" + str(funEvals) + \", alpha = \" + str(alpha) + \", Function Value = \" + str(f) + \"Opt Cond: \" + str(optCond))\n",
    "        if (optCond < 1e-2):\n",
    "            break\n",
    "        if (funEvals >= maxEvals):\n",
    "            break\n",
    "    return (funVals,numBackTrack)"
   ]
  },
  {
   "cell_type": "code",
   "execution_count": 47,
   "metadata": {},
   "outputs": [
    {
     "name": "stdout",
     "output_type": "stream",
     "text": [
      "FunEvals: 20, alpha = 4.1796056076066775e-05, Function Value = 1012.4951823907003Opt Cond: 95.53384664247373\n",
      "FunEvals: 30, alpha = 3.997469461451199e-05, Function Value = 953.5753177548778Opt Cond: 35.655121235018115\n",
      "FunEvals: 40, alpha = 0.00012388804702371698, Function Value = 885.1699025757175Opt Cond: 31.335650768554615\n",
      "FunEvals: 50, alpha = 1.3144239424878223e-05, Function Value = 868.4387633860271Opt Cond: 22.72480197211717\n",
      "FunEvals: 60, alpha = 3.19951286344067e-05, Function Value = 846.6514541812807Opt Cond: 38.97806992194706\n",
      "FunEvals: 70, alpha = 6.404017174599795e-05, Function Value = 830.1929117099367Opt Cond: 42.25847013698607\n",
      "FunEvals: 80, alpha = 0.00011081246239613855, Function Value = 812.8209357043669Opt Cond: 24.121207738723843\n",
      "FunEvals: 90, alpha = 3.612908378647803e-05, Function Value = 797.2790559279035Opt Cond: 24.85602397608963\n",
      "FunEvals: 100, alpha = 6.343884114915358e-05, Function Value = 785.5404258802879Opt Cond: 19.27475140750184\n",
      "FunEvals: 110, alpha = 0.00013841402942537257, Function Value = 769.2091021378449Opt Cond: 22.493117400607588\n",
      "FunEvals: 120, alpha = 9.712124304379424e-05, Function Value = 748.6620774703173Opt Cond: 17.151002599529306\n",
      "FunEvals: 130, alpha = 0.00023936031789675434, Function Value = 729.0076217026603Opt Cond: 17.03859779736474\n",
      "FunEvals: 140, alpha = 1.9406980779655936e-05, Function Value = 692.6012054315212Opt Cond: 17.644861089297766\n",
      "FunEvals: 150, alpha = 6.422924249528637e-05, Function Value = 679.7141080649994Opt Cond: 15.576008890767799\n",
      "FunEvals: 160, alpha = 2.41322291549794e-05, Function Value = 669.1484547018877Opt Cond: 28.44097383399261\n",
      "FunEvals: 170, alpha = 4.8713805178756046e-05, Function Value = 660.6072256831944Opt Cond: 14.413102172561631\n",
      "FunEvals: 180, alpha = 1.2529301830671562e-05, Function Value = 653.9827669332112Opt Cond: 28.252653890481643\n",
      "FunEvals: 190, alpha = 3.819751677923672e-05, Function Value = 647.1789725869651Opt Cond: 13.116702915237225\n",
      "FunEvals: 210, alpha = 0.00026940911215927874, Function Value = 623.2877509167935Opt Cond: 12.716496769920353\n",
      "FunEvals: 220, alpha = 5.7479250462785626e-05, Function Value = 610.9093464901916Opt Cond: 11.902977748188208\n",
      "FunEvals: 230, alpha = 3.513706007390374e-05, Function Value = 600.7644208674036Opt Cond: 12.009462306254827\n",
      "FunEvals: 240, alpha = 1.002861071551496e-05, Function Value = 592.4282743265723Opt Cond: 14.492333059911735\n",
      "FunEvals: 250, alpha = 4.002863754206335e-05, Function Value = 585.1233740802434Opt Cond: 21.94867365796802\n",
      "250\n",
      "Number of Backtrackings = 35\n"
     ]
    }
   ],
   "source": [
    "[nSamples,nVars] = X.shape\n",
    "w = np.zeros((nVars,1))\n",
    "(funV5,numBackTrack) = gdArmijoV4(LogisticLoss,w,250,1,1e-4,X,y,1,1,10)\n",
    "print(len(funV5))\n",
    "print(\"Number of Backtrackings = \" + str(numBackTrack))"
   ]
  },
  {
   "cell_type": "code",
   "execution_count": 48,
   "metadata": {},
   "outputs": [
    {
     "name": "stdout",
     "output_type": "stream",
     "text": [
      "249\n",
      "249\n",
      "254\n",
      "250\n",
      "250\n"
     ]
    }
   ],
   "source": [
    "print(len(funV1))\n",
    "print(len(funV2))\n",
    "print(len(funV3))\n",
    "print(len(funV4))\n",
    "print(len(funV5))"
   ]
  },
  {
   "cell_type": "code",
   "execution_count": 49,
   "metadata": {},
   "outputs": [
    {
     "data": {
      "text/plain": [
       "Text(0, 0.5, 'Function Value')"
      ]
     },
     "execution_count": 49,
     "metadata": {},
     "output_type": "execute_result"
    },
    {
     "data": {
      "image/png": "[encoded data removed]",
      "text/plain": [
       "<Figure size 432x288 with 1 Axes>"
      ]
     },
     "metadata": {
      "needs_background": "light"
     },
     "output_type": "display_data"
    }
   ],
   "source": [
    "from matplotlib import pyplot as plt\n",
    "plt.plot(range(1,len(funV1)+1), funV1, label='Fixed alpha')\n",
    "plt.plot(range(1,len(funV1)+1), funV2, label='Armijo V1')\n",
    "plt.plot(range(1,len(funV1)+1), funV3[1:len(funV1)+1], label='Armijo V2')\n",
    "plt.plot(range(1,len(funV1)+1), funV4[1:len(funV1)+1], label='Armijo V3')\n",
    "plt.plot(range(1,len(funV1)+1), funV5[1:len(funV1)+1], label='Armijo V4')\n",
    "plt.legend()\n",
    "plt.xlabel(\"# Iterations\")\n",
    "plt.ylabel(\"Function Value\")"
   ]
  },
  {
   "cell_type": "code",
   "execution_count": 54,
   "metadata": {},
   "outputs": [
    {
     "data": {
      "text/plain": [
       "Text(0, 0.5, 'Function Value')"
      ]
     },
     "execution_count": 54,
     "metadata": {},
     "output_type": "execute_result"
    },
    {
     "data": {
      "image/png": "[encoded data removed]",
      "text/plain": [
       "<Figure size 432x288 with 1 Axes>"
      ]
     },
     "metadata": {
      "needs_background": "light"
     },
     "output_type": "display_data"
    }
   ],
   "source": [
    "from matplotlib import pyplot as plt\n",
    "plt.plot(range(51,len(funV1)+1), funV1[50:len(funV1)+1], label='Fixed alpha')\n",
    "plt.plot(range(51,len(funV1)+1), funV2[50:len(funV1)+1], label='Armijo V1')\n",
    "plt.plot(range(50,len(funV1)+1), funV3[50:len(funV1)+1], label='Armijo V2')\n",
    "plt.plot(range(50,len(funV1)+1), funV4[50:len(funV1)+1], label='Armijo V3')\n",
    "plt.plot(range(50,len(funV1)+1), funV5[50:len(funV1)+1], label='Armijo V4')\n",
    "plt.legend()\n",
    "plt.xlabel(\"# Iterations\")\n",
    "plt.ylabel(\"Function Value\")"
   ]
  },
  {
   "cell_type": "code",
   "execution_count": null,
   "metadata": {},
   "outputs": [],
   "source": []
  }
 ],
 "metadata": {
  "kernelspec": {
   "display_name": "Python 2",
   "language": "python",
   "name": "python2"
  },
  "language_info": {
   "codemirror_mode": {
    "name": "ipython",
    "version": 3
   },
   "file_extension": ".py",
   "mimetype": "text/x-python",
   "name": "python",
   "nbconvert_exporter": "python",
   "pygments_lexer": "ipython3",
   "version": "3.7.3"
  }
 },
 "nbformat": 4,
 "nbformat_minor": 2
}
