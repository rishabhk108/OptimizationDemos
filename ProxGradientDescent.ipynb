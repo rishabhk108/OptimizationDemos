{
 "cells": [
  {
   "cell_type": "markdown",
   "metadata": {},
   "source": [
    "### Dataset\n",
    "Lets Load the dataset. We shall use the following datasets:\n",
    "Features are in: \"sido0_train.mat\"\n",
    "Labels are in: \"sido0_train.targets\""
   ]
  },
  {
   "cell_type": "code",
   "execution_count": 191,
   "metadata": {},
   "outputs": [
    {
     "name": "stdout",
     "output_type": "stream",
     "text": [
      "(12678, 4932)\n"
     ]
    }
   ],
   "source": [
    "from scipy.io import loadmat\n",
    "import numpy as np\n",
    "\n",
    "X = loadmat(r\"/Users/rkiyer/Desktop/teaching/CS6301/jupyter/data/sido0_matlab/sido0_train.mat\")\n",
    "y = np.loadtxt(r\"/Users/rkiyer/Desktop/teaching/CS6301/jupyter/data/sido0_matlab/sido0_train.targets\")\n",
    "\n",
    "# Statistics of the Dense Format of X\n",
    "X = X['X'].todense()\n",
    "print(X.shape)"
   ]
  },
  {
   "cell_type": "markdown",
   "metadata": {},
   "source": [
    "### Logistic Regression Definition\n",
    "Lets define now L1 regularized Logistic Loss\n"
   ]
  },
  {
   "cell_type": "code",
   "execution_count": 192,
   "metadata": {},
   "outputs": [],
   "source": [
    "def LogisticLoss(w, X, y, lam):\n",
    "    # Computes the cost function for all the training samples\n",
    "    m = X.shape[0]\n",
    "    n = X.shape[1]\n",
    "    Xw = np.dot(X,w)\n",
    "    yT = y.reshape(-1,1)\n",
    "    yXw = np.multiply(yT,Xw)\n",
    "    f = np.sum(np.logaddexp(0,-yXw)) + lam*np.sum(np.abs(w))\n",
    "    gMul = 1/(1 + np.exp(yXw))\n",
    "    ymul = -1*np.multiply(yT, gMul)\n",
    "    g =  np.dot(ymul.reshape(1,-1),X) + lam*np.sign(w).reshape(1,-1)\n",
    "    g = g.reshape(-1,1)\n",
    "    return [f, g]      "
   ]
  },
  {
   "cell_type": "code",
   "execution_count": 193,
   "metadata": {},
   "outputs": [
    {
     "name": "stdout",
     "output_type": "stream",
     "text": [
      "8787.719955138986\n",
      "[[503.5]\n",
      " [292. ]\n",
      " [ 21.5]\n",
      " ...\n",
      " [556.5]\n",
      " [118. ]\n",
      " [194.5]]\n"
     ]
    }
   ],
   "source": [
    "[nSamples,nVars] = X.shape\n",
    "w = np.zeros((nVars,1))\n",
    "[f,g] = LogisticLoss(w, X, y, 1)\n",
    "print(f)\n",
    "print(g)"
   ]
  },
  {
   "cell_type": "markdown",
   "metadata": {},
   "source": [
    "### Reinvoking Gradient Descent Armiojo\n",
    "Lets invoke the final version of Armijo Line Search GD"
   ]
  },
  {
   "cell_type": "code",
   "execution_count": 194,
   "metadata": {},
   "outputs": [],
   "source": [
    "from numpy import linalg as LA\n",
    "\n",
    "def gd(funObj,w,maxEvals,alpha,X,y,lam, verbosity, freq):\n",
    "    [f,g] = funObj(w,X,y,lam)\n",
    "    funEvals = 1\n",
    "    funVals = []\n",
    "    while(1):\n",
    "        [f,g] = funObj(w,X,y,lam)\n",
    "        optCond = LA.norm(g, np.inf)\n",
    "        if ((verbosity > 0) and (funEvals % freq == 0)):\n",
    "            print(funEvals,alpha,f,optCond)\n",
    "        w = w - alpha*g\n",
    "        funEvals = funEvals+1\n",
    "        if (optCond < 1e-2):\n",
    "            break\n",
    "        if (funEvals > maxEvals):\n",
    "            break\n",
    "        funVals.append(f)\n",
    "    return funVals\n",
    "\n",
    "def gdArmijo(funObj,w,maxEvals,alpha,gamma,X,y,lam, verbosity, freq):\n",
    "    [f,g] = funObj(w,X,y,lam)\n",
    "    funEvals = 1\n",
    "    funVals = []\n",
    "    f_old = f\n",
    "    g_old = g\n",
    "    funVals.append(f)\n",
    "    alpha = 1\n",
    "    numBackTrack = 0\n",
    "    while(1):\n",
    "        wp = w - alpha*g\n",
    "        [fp,gp] = funObj(wp,X,y,lam)\n",
    "        funVals.append(f)\n",
    "        funEvals = funEvals+1\n",
    "        backtrack = 0\n",
    "        while fp > f - gamma*alpha*np.dot(g.T, g):\n",
    "            alpha = alpha*alpha*np.dot(g.T, g)[0,0]/(2*(fp + np.dot(g.T, g)[0,0]*alpha - f))\n",
    "            wp = w - alpha*g\n",
    "            [fp,gp] = funObj(wp,X,y,lam)\n",
    "            funVals.append(f)\n",
    "            funEvals = funEvals+1\n",
    "            numBackTrack = numBackTrack + 1\n",
    "        if funEvals > 2:\n",
    "            alpha = min(1,2*(f_old - f)/np.dot(g.T, g)[0,0])\n",
    "        f_old = f\n",
    "        g_old = g\n",
    "        w = wp\n",
    "        f = fp\n",
    "        g = gp\n",
    "        optCond = LA.norm(g, np.inf)\n",
    "        if ((verbosity > 0) and (funEvals % freq == 0)):\n",
    "            print(funEvals,alpha,f,optCond)\n",
    "        if (optCond < 1e-2):\n",
    "            break\n",
    "        if (funEvals >= maxEvals):\n",
    "            break\n",
    "    return (funVals,numBackTrack)"
   ]
  },
  {
   "cell_type": "markdown",
   "metadata": {},
   "source": [
    "### Proximal Gradient Descent\n",
    "Now lets implement Proximal"
   ]
  },
  {
   "cell_type": "code",
   "execution_count": 181,
   "metadata": {},
   "outputs": [],
   "source": [
    "from numpy import linalg as LA\n",
    "\n",
    "mu = 1\n",
    "def L1Prox(x, lam):\n",
    "    maxx = np.maximum(np.abs(x) - lam*mu, 0)\n",
    "    return np.multiply(maxx, np.sign(x))\n",
    "\n",
    "def gdProx(funObj,w,maxEvals,alpha,X,y,lam, verbosity, freq):\n",
    "    [f,g] = funObj(w,X,y,lam)\n",
    "    funEvals = 1\n",
    "    funVals = []\n",
    "    while(1):\n",
    "        [f,g] = funObj(w,X,y,0)\n",
    "        optCond = LA.norm(g, np.inf)\n",
    "        if ((verbosity > 0) and (funEvals % freq == 0)):\n",
    "            print(funEvals,alpha,f,optCond)\n",
    "        w = L1Prox(w - alpha*g,lam*alpha)\n",
    "        funEvals = funEvals+1\n",
    "        if (optCond < 1e-2):\n",
    "            break\n",
    "        if (funEvals > maxEvals):\n",
    "            break\n",
    "        funVals.append(f)\n",
    "    return funVals\n",
    "\n",
    "def gdProxArmijo(funObj,w,maxEvals,alpha,gamma,X,y,lam, verbosity, freq):\n",
    "    [f,g] = funObj(w,X,y,0)\n",
    "    funEvals = 1\n",
    "    funVals = []\n",
    "    f_old = f\n",
    "    g_old = g\n",
    "    funVals.append(f)\n",
    "    alpha = 1\n",
    "    numBackTrack = 0\n",
    "    while(1):\n",
    "        wp = L1Prox(w - alpha*g,alpha*lam)\n",
    "        [fp,gp] = funObj(wp,X,y,0)\n",
    "        funVals.append(f)\n",
    "        funEvals = funEvals+1\n",
    "        backtrack = 0\n",
    "        while fp > f - gamma*alpha*np.dot(g.T, g):\n",
    "            alpha = alpha*alpha*np.dot(g.T, g)[0,0]/(2*(fp + np.dot(g.T, g)[0,0]*alpha - f))\n",
    "            wp = L1Prox(w - alpha*g,lam*alpha)\n",
    "            [fp,gp] = funObj(wp,X,y,0)\n",
    "            funVals.append(f)\n",
    "            funEvals = funEvals+1\n",
    "            numBackTrack = numBackTrack + 1\n",
    "        if funEvals > 2:\n",
    "            alpha = min(1,2*(f_old - f)/np.dot(g.T, g)[0,0])\n",
    "        f_old = f\n",
    "        g_old = g\n",
    "        w = wp\n",
    "        f = fp\n",
    "        g = gp\n",
    "        optCond = LA.norm(g, np.inf)\n",
    "        if ((verbosity > 0) and (funEvals % freq == 0)):\n",
    "            print(funEvals,alpha,f,optCond)\n",
    "        if (optCond < 1e-2):\n",
    "            break\n",
    "        if (funEvals >= maxEvals):\n",
    "            break\n",
    "    return (funVals,numBackTrack)"
   ]
  },
  {
   "cell_type": "code",
   "execution_count": 185,
   "metadata": {},
   "outputs": [
    {
     "name": "stdout",
     "output_type": "stream",
     "text": [
      "Gradient Descent with Fixed Step Size\n",
      "10 1e-05 25483.458111208987 1318.165161847604\n",
      "20 1e-05 28174.671349879456 1271.76399300516\n",
      "30 1e-05 34043.01227034802 1404.3636619139188\n",
      "40 1e-05 30346.176427273946 1351.1312121214416\n",
      "50 1e-05 35524.90509051614 1410.4548179904532\n",
      "60 1e-05 32199.107914998018 1387.2329308605804\n",
      "70 1e-05 31392.224061468136 1380.106049412477\n",
      "80 1e-05 32667.859332787804 1398.7549782211106\n",
      "90 1e-05 30788.29140257608 1368.8791051250455\n",
      "100 1e-05 32545.655986155758 1395.7281700648925\n",
      "110 1e-05 29787.699474075103 1343.9294118117182\n",
      "120 1e-05 29336.54378554532 1311.895386403687\n",
      "130 1e-05 31920.301586768965 1387.4926194929058\n",
      "140 1e-05 33292.894791505896 1403.806952771307\n",
      "150 1e-05 29601.687563686126 1344.4449250864093\n",
      "160 1e-05 32629.940009878974 1399.419798719683\n",
      "170 1e-05 30101.55044672699 1347.9862901168767\n",
      "180 1e-05 33724.27042445242 1405.6284714989056\n",
      "190 1e-05 29760.52240155365 1345.8794988936215\n",
      "200 1e-05 32007.02668790054 1389.405963235599\n",
      "199\n",
      "Gradient Descent with Backtracking Line Search\n"
     ]
    },
    {
     "name": "stderr",
     "output_type": "stream",
     "text": [
      "/usr/local/lib/python3.7/site-packages/ipykernel_launcher.py:9: RuntimeWarning: overflow encountered in exp\n",
      "  if __name__ == '__main__':\n"
     ]
    },
    {
     "name": "stdout",
     "output_type": "stream",
     "text": [
      "20 1.4088759485544872e-07 7077.719863352558 1860.6086697728492\n",
      "30 8.313546216299688e-09 6629.862512634738 1845.1737521321706\n",
      "40 3.3455937772699538e-09 6556.705269974167 1843.1842969400523\n",
      "50 1.2557022591437148e-10 6548.129271462571 1842.6636660832119\n",
      "60 3.355302803325746e-10 6544.37748462888 1842.4801207285454\n",
      "70 4.9051151424008995e-11 6543.443175067647 1842.4497824196078\n",
      "80 1.0325039536393731e-11 6543.274002088672 1842.4435246401163\n",
      "90 2.13335581249387e-12 6543.237870068007 1842.4423131138674\n",
      "100 3.5325304179109113e-13 6543.2336105628365 1842.4421202593758\n",
      "110 7.950098487337587e-14 6543.232188062712 1842.4420818232647\n",
      "120 1.7868879958084857e-14 6543.231896107758 1842.442071783773\n",
      "130 0.0 6543.2318614986125 1842.442071064147\n",
      "140 0.0 6543.23185715939 1842.4420709112064\n",
      "150 0.0 6543.231855210681 1842.442070843923\n",
      "160 0.0 6543.231854791848 1842.442070830396\n",
      "170 0.0 6543.231854743397 1842.4420708281405\n",
      "180 0.0 6543.231854741502 1842.442070828085\n",
      "190 0.0 6543.231854731518 1842.442070827714\n",
      "200 0.0 6543.231854729264 1842.4420708276539\n",
      "200\n",
      "Number of Backtrackings = 14\n"
     ]
    }
   ],
   "source": [
    "[nSamples,nVars] = X.shape\n",
    "w = np.zeros((nVars,1))\n",
    "print(\"Gradient Descent with Fixed Step Size\")\n",
    "funV1 = gd(LogisticLoss,w,200,1e-5,X,y,1000,1,10)\n",
    "print(len(funV1))\n",
    "print(\"Gradient Descent with Backtracking Line Search\")\n",
    "(funV2,numBackTrack) = gdArmijo(LogisticLoss,w,200,1,1e-4,X,y,1000,1,10)\n",
    "print(len(funV2))\n",
    "print(\"Number of Backtrackings = \" + str(numBackTrack))"
   ]
  },
  {
   "cell_type": "code",
   "execution_count": 186,
   "metadata": {},
   "outputs": [
    {
     "name": "stdout",
     "output_type": "stream",
     "text": [
      "Proximal Gradient Descent with Fixed Step Size\n",
      "10 1e-05 2636.788990359461 1355.3541907312065\n",
      "20 1e-05 2522.4094780052596 1241.1177191366498\n",
      "30 1e-05 2476.492028975414 1198.6590906761421\n",
      "40 1e-05 2445.8466936273685 1170.270448987063\n",
      "50 1e-05 2418.0767937525343 1141.3717745909807\n",
      "60 1e-05 2397.552084345081 1119.5245640500075\n",
      "70 1e-05 2380.2692054497343 1100.2119196972003\n",
      "80 1e-05 2360.213428295232 1078.5976530015273\n",
      "90 1e-05 2351.6236064501545 1069.13244346509\n",
      "100 1e-05 2349.1573147351933 1065.8799951955393\n",
      "110 1e-05 2345.168520074747 1060.811929376459\n",
      "120 1e-05 2341.0091688481543 1055.3118032811078\n",
      "130 1e-05 2338.326860674283 1051.611196823867\n",
      "140 1e-05 2337.748939954794 1049.9987710632922\n",
      "150 1e-05 2332.8626368581536 1043.762821189623\n",
      "160 1e-05 2326.6239347212163 1036.565160878359\n",
      "170 1e-05 2325.0562761959272 1034.1551077883082\n",
      "180 1e-05 2325.022897948621 1033.2962336178455\n",
      "190 1e-05 2325.3024594330054 1032.750999556637\n",
      "200 1e-05 2322.6750791997874 1029.1253458192427\n",
      "199\n"
     ]
    }
   ],
   "source": [
    "[nSamples,nVars] = X.shape\n",
    "w = np.zeros((nVars,1))\n",
    "print(\"Proximal Gradient Descent with Fixed Step Size\")\n",
    "(funV3) = gdProx(LogisticLoss,w,200,1e-5,X,y,1000,1,10)\n",
    "print(len(funV3))\n",
    "#print(\"Proximal Gradient Descent with Backtracking Line Search\")\n",
    "#(funV1,numBackTrack) = gdProxArmijo(LogisticLoss,w,200,1,1e-4,X,y,1000,1,10)\n",
    "#print(len(funV1))\n",
    "#print(\"Number of Backtrackings = \" + str(numBackTrack))"
   ]
  },
  {
   "cell_type": "code",
   "execution_count": 190,
   "metadata": {},
   "outputs": [
    {
     "data": {
      "text/plain": [
       "Text(0, 0.5, 'Function Value')"
      ]
     },
     "execution_count": 190,
     "metadata": {},
     "output_type": "execute_result"
    },
    {
     "data": {
      "image/png": "[encoded data removed]",
      "text/plain": [
       "<Figure size 432x288 with 1 Axes>"
      ]
     },
     "metadata": {
      "needs_background": "light"
     },
     "output_type": "display_data"
    }
   ],
   "source": [
    "from matplotlib import pyplot as plt\n",
    "plt.plot(range(1,len(funV1)+1), funV1, label='GDFixed')\n",
    "plt.plot(range(1,len(funV2)+1), funV2, label='GDBacktrack')\n",
    "plt.plot(range(1,len(funV3)+1), funV3, label='ProxGD')\n",
    "plt.legend()\n",
    "plt.xlabel(\"# Iterations\")\n",
    "plt.ylabel(\"Function Value\")"
   ]
  }
 ],
 "metadata": {
  "kernelspec": {
   "display_name": "Python 2",
   "language": "python",
   "name": "python2"
  },
  "language_info": {
   "codemirror_mode": {
    "name": "ipython",
    "version": 3
   },
   "file_extension": ".py",
   "mimetype": "text/x-python",
   "name": "python",
   "nbconvert_exporter": "python",
   "pygments_lexer": "ipython3",
   "version": "3.7.3"
  }
 },
 "nbformat": 4,
 "nbformat_minor": 2
}
