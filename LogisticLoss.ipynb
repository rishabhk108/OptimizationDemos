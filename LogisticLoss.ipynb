{
 "cells": [
  {
   "cell_type": "code",
   "execution_count": 56,
   "metadata": {},
   "outputs": [
    {
     "name": "stdout",
     "output_type": "stream",
     "text": [
      "(12678, 4932)\n",
      "(12678,)\n"
     ]
    }
   ],
   "source": [
    "from scipy.io import loadmat\n",
    "import numpy as np\n",
    "\n",
    "X = loadmat(r\"/Users/rkiyer/Desktop/teaching/CS6301/code/data/sido0_matlab/sido0_train.mat\")\n",
    "y = np.loadtxt(r\"/Users/rkiyer/Desktop/teaching/CS6301/code/data/sido0_matlab/sido0_train.targets\")\n",
    "\n",
    "# Statistics of the Dense Format of X\n",
    "X = X['X'].todense()\n",
    "print(X.shape)\n",
    "print(y.shape)"
   ]
  },
  {
   "cell_type": "code",
   "execution_count": 57,
   "metadata": {},
   "outputs": [],
   "source": [
    "def sigmoid(x):\n",
    "    # Activation function used to map any real value between 0 and 1\n",
    "    return 1 / (1 + np.exp(-x))\n",
    "\n",
    "def net_input(theta, x):\n",
    "    # Computes the weighted sum of inputs\n",
    "    return np.dot(x, theta)\n",
    "\n",
    "def probability(theta, x):\n",
    "    # Returns the probability after passing through sigmoid\n",
    "    return sigmoid(net_input(theta, x))\n",
    "\n",
    "def LogisticLoss(w, X, y, lam):\n",
    "    # Computes the cost function for all the training samples\n",
    "    m = X.shape[0]\n",
    "    Xw = np.dot(X,w)\n",
    "    yT = y.reshape(-1,1)\n",
    "    yXw = np.multiply(yT,Xw)    \n",
    "    f = np.sum(np.logaddexp(1,yXw)) + lam/2*np.sum(w*w)\n",
    "    ymul = yT/(1 + np.exp(-yXw))\n",
    "    g =  np.dot(ymul.reshape(1,-1),X) + lam*w.reshape(1,-1)\n",
    "    g = g.reshape(-1,1)\n",
    "    return [f, g]"
   ]
  },
  {
   "cell_type": "code",
   "execution_count": 58,
   "metadata": {},
   "outputs": [
    {
     "name": "stdout",
     "output_type": "stream",
     "text": [
      "325733.0\n",
      "16649.531674356032\n"
     ]
    },
    {
     "name": "stderr",
     "output_type": "stream",
     "text": [
      "/usr/local/lib/python2.7/site-packages/ipykernel_launcher.py:20: RuntimeWarning: overflow encountered in exp\n"
     ]
    }
   ],
   "source": [
    "w = np.ones((4932, 1))\n",
    "[f,g] = LogisticLoss(w,X,y,1)\n",
    "print(f)\n",
    "w = np.zeros((4932, 1))\n",
    "[f,g] = LogisticLoss(w,X,y,1)\n",
    "print(f)"
   ]
  }
 ],
 "metadata": {
  "kernelspec": {
   "display_name": "Python 2",
   "language": "python",
   "name": "python2"
  },
  "language_info": {
   "codemirror_mode": {
    "name": "ipython",
    "version": 3
   },
   "file_extension": ".py",
   "mimetype": "text/x-python",
   "name": "python",
   "nbconvert_exporter": "python",
   "pygments_lexer": "ipython3",
   "version": "3.7.3"
  }
 },
 "nbformat": 4,
 "nbformat_minor": 2
}
